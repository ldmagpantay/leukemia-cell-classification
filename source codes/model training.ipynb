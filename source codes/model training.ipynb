{
  "cells": [
    {
      "cell_type": "code",
      "execution_count": null,
      "metadata": {
        "colab": {
          "base_uri": "https://localhost:8080/"
        },
        "id": "0C-RxZWF1ji7",
        "outputId": "4e0093e9-0505-47b1-bac3-8e0ba92518d5"
      },
      "outputs": [
        {
          "name": "stdout",
          "output_type": "stream",
          "text": [
            "Mounted at /content/drive\n"
          ]
        }
      ],
      "source": [
        "from google.colab import drive\n",
        "drive.mount('/content/drive', force_remount=True)"
      ]
    },
    {
      "cell_type": "code",
      "execution_count": null,
      "metadata": {
        "colab": {
          "base_uri": "https://localhost:8080/"
        },
        "id": "RdrpeD0v7QlU",
        "outputId": "bbcef3a8-c088-4fda-9727-1b4aedff9fdc"
      },
      "outputs": [
        {
          "name": "stdout",
          "output_type": "stream",
          "text": [
            "/content/drive/My Drive/Leukemia-DL\n"
          ]
        }
      ],
      "source": [
        "cd /content/drive/My Drive/Leukemia-DL"
      ]
    },
    {
      "cell_type": "code",
      "execution_count": null,
      "metadata": {
        "colab": {
          "base_uri": "https://localhost:8080/",
          "height": 35
        },
        "id": "3NZo25mI7tTM",
        "outputId": "d298bc0e-0540-4c56-e67b-d1f87c349402"
      },
      "outputs": [
        {
          "data": {
            "application/vnd.google.colaboratory.intrinsic+json": {
              "type": "string"
            },
            "text/plain": [
              "'/content/drive/My Drive/Leukemia-DL'"
            ]
          },
          "execution_count": 3,
          "metadata": {},
          "output_type": "execute_result"
        }
      ],
      "source": [
        "pwd"
      ]
    },
    {
      "cell_type": "code",
      "execution_count": null,
      "metadata": {
        "colab": {
          "base_uri": "https://localhost:8080/",
          "height": 1000
        },
        "id": "59V1IQCrqlLZ",
        "outputId": "9f61f925-4876-4eaa-8e61-74de852c76b8"
      },
      "outputs": [],
      "source": [
        "!pip install opencv-python==4.1.2.30\n",
        "!pip install folium==0.2.1\n",
        "!pip install imgaug==0.2.5\n",
        "!pip uninstall keras-nightly -y\n",
        "!pip install keras==2.3.1\n",
        "!pip install tensorflow==1.14.0\n",
        "!pip install tensorflow-gpu==1.14.0\n",
        "!pip install 'h5py==2.10.0' --force-reinstall\n",
        "!pip install imageai==2.1.5"
      ]
    },
    {
      "cell_type": "code",
      "execution_count": null,
      "metadata": {
        "colab": {
          "base_uri": "https://localhost:8080/"
        },
        "id": "R4aKsRhAsQkq",
        "outputId": "2334513e-fb5b-42e7-a490-7b1237335967"
      },
      "outputs": [],
      "source": [
        "!wget https://github.com/OlafenwaMoses/ImageAI/releases/download/essential-v4/pretrained-yolov3.h5"
      ]
    },
    {
      "cell_type": "markdown",
      "metadata": {
        "id": "k2iNuLtaK4ly"
      },
      "source": [
        "## Model Training"
      ]
    },
    {
      "cell_type": "code",
      "execution_count": null,
      "metadata": {
        "colab": {
          "base_uri": "https://localhost:8080/"
        },
        "id": "85-p5YvPtPK1",
        "outputId": "a5a8b219-e10c-43c1-f72a-01912ebe1226"
      },
      "outputs": [],
      "source": [
        "from imageai.Detection.Custom import DetectionModelTrainer\n",
        "\n",
        "trainer = DetectionModelTrainer()\n",
        "trainer.setModelTypeAsYOLOv3()\n",
        "trainer.setDataDirectory(data_directory=\"/content/drive/MyDrive/Leukemia-DL\")\n",
        "trainer.setTrainConfig(object_names_array=[\"ALL\", \"HEM\"], batch_size=4, num_experiments=1, train_from_pretrained_model=\"/content/drive/MyDrive/Leukemia-DL/models/detection_model-ex-030--loss-0002.350.h5\")\n",
        "trainer.trainModel()"
      ]
    },
    {
      "cell_type": "markdown",
      "metadata": {
        "id": "MW1BQnYsKy7F"
      },
      "source": [
        "# Model Evaluation"
      ]
    },
    {
      "cell_type": "code",
      "execution_count": null,
      "metadata": {
        "colab": {
          "base_uri": "https://localhost:8080/"
        },
        "id": "OWrjsX8IvQR0",
        "outputId": "e1ec52c2-4147-4e86-f4f1-e0ac07197b26"
      },
      "outputs": [],
      "source": [
        "from imageai.Detection.Custom import DetectionModelTrainer\n",
        "\n",
        "trainer = DetectionModelTrainer()\n",
        "trainer.setModelTypeAsYOLOv3()\n",
        "trainer.setDataDirectory(data_directory=\"/content/drive/MyDrive/Leukemia-DL\")\n",
        "trainer.evaluateModel(model_path=\"/content/drive/MyDrive/Leukemia-DL/models\", json_path=\"/content/drive/MyDrive/Leukemia-DL/json/detection_config.json\", iou_threshold=0.5, object_threshold=0.3, nms_threshold=0.5)"
      ]
    }
  ],
  "metadata": {
    "accelerator": "GPU",
    "colab": {
      "collapsed_sections": [],
      "name": "Leukemia-DL.ipynb",
      "provenance": []
    },
    "kernelspec": {
      "display_name": "Python 3",
      "name": "python3"
    },
    "language_info": {
      "name": "python"
    }
  },
  "nbformat": 4,
  "nbformat_minor": 0
}
